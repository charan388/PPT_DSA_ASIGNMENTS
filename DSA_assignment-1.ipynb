{
 "cells": [
  {
   "cell_type": "markdown",
   "id": "61f8102d",
   "metadata": {},
   "source": [
    "# Q1.Given an array of integers nums and an integer target, return indices of the two numbers such that they add up to target.\n",
    "\n",
    "You may assume that each input would have exactly one solution, and you may not use the same element twice.\n",
    "\n",
    "You can return the answer in any order.\n",
    "\n",
    "Example:\n",
    "Input: nums = [2,7,11,15], target = 9\n",
    "Output0 [0,1]\n",
    "\n",
    "Explanation:Because nums[0] + nums[1] == 9, we return [0, 1]\n",
    "\n",
    "algorithm:-\n",
    "1. intialize the empty dictonary\n",
    "2. enumerate over the nums list \n",
    "3. find the difference between the target and the value\n",
    "4. if difference is in dictonary then print the list of indexes of difference and i\n",
    "4. else update the dictonary with value coresponding index.\n"
   ]
  },
  {
   "cell_type": "code",
   "execution_count": 2,
   "id": "d2b98d6c",
   "metadata": {},
   "outputs": [
    {
     "name": "stdout",
     "output_type": "stream",
     "text": [
      "[0, 1]\n"
     ]
    }
   ],
   "source": [
    "def sum(nums):\n",
    "    dic = {}\n",
    "    for i,v in enumerate(nums):\n",
    "        dif = t-v\n",
    "        if dif in dic:\n",
    "            return([dic[dif],i])\n",
    "        else:\n",
    "            dic[v] = i\n",
    "        \n"
   ]
  },
  {
   "cell_type": "markdown",
   "id": "6102f290",
   "metadata": {},
   "source": [
    "# Q2.Given an integer array nums and an integer val, remove all occurrences of val in nums in-place. The order of the elements may be changed. Then return the number of elements in nums which are not equal to val.\n",
    "\n",
    "Consider the number of elements in nums which are not equal to val be k, to get accepted, you need to do the following things:\n",
    "\n",
    "Change the array nums such that the first k elements of nums contain the elements which are not equal to val. The remaining elements of nums are not important as well as the size of nums.\n",
    "Return k."
   ]
  },
  {
   "cell_type": "code",
   "execution_count": null,
   "id": "88d02900",
   "metadata": {},
   "outputs": [],
   "source": [
    "def in_place(nums,val):\n",
    "    for i in range(len(reversed(nums))):\n",
    "        if nums[i]==val:\n",
    "            nums.pop(i)\n",
    "    return(len(nums))\n"
   ]
  },
  {
   "cell_type": "markdown",
   "id": "4399c9cc",
   "metadata": {},
   "source": [
    "# Q3. Given a sorted array of distinct integers and a target value, return the index if the target is found. If not, return the index where it would be if it were inserted in order.\n",
    "\n",
    "You must write an algorithm with O(log n) runtime complexity.\n",
    "\n",
    "**Example 1:**\n",
    "Input: nums = [1,3,5,6], target = 5\n",
    "\n",
    "Output: 2"
   ]
  },
  {
   "cell_type": "code",
   "execution_count": null,
   "id": "d975f6eb",
   "metadata": {},
   "outputs": [],
   "source": [
    "def binsearch(nums,target):\n",
    "    l=0\n",
    "    r= len(nums)-1\n",
    "    while l<=r:\n",
    "        mid = l+r//2\n",
    "        if nums[mid] == target:\n",
    "            return mid\n",
    "        if nums[mid]<target:\n",
    "            l =mid+1\n",
    "        else:\n",
    "            r =mid-1\n",
    "    return l\n",
    "binsearch([1,3,5,6],5)"
   ]
  },
  {
   "cell_type": "markdown",
   "id": "df7c6a08",
   "metadata": {},
   "source": [
    "# Q4. You are given a large integer represented as an integer array digits, where each digits[i] is the ith digit of the integer. The digits are ordered from most significant to least significant in left-to-right order. The large integer does not contain any leading 0's.\n",
    "\n",
    "Increment the large integer by one and return the resulting array of digits.\n",
    "\n",
    "Example 1:\n",
    "Input: digits = [1,2,3]\n",
    "Output: [1,2,4]\n",
    "\n",
    "Explanation: The array represents the integer 123.\n",
    "\n",
    "Incrementing by one gives 123 + 1 = 124.\n",
    "Thus, the result should be [1,2,4].\n"
   ]
  },
  {
   "cell_type": "code",
   "execution_count": null,
   "id": "2f3533a6",
   "metadata": {},
   "outputs": [],
   "source": [
    "def sum1(digits):\n",
    "    s=\"\"\n",
    "    for i in digits:\n",
    "        s = s+str(i)\n",
    "    n = int(s)+1\n",
    "    n = str(n)\n",
    "    l =[]\n",
    "    for j in n:\n",
    "        l.append(int(j))\n",
    "    return l\n",
    "sum1([1,2,3])   "
   ]
  },
  {
   "cell_type": "markdown",
   "id": "75c899b3",
   "metadata": {},
   "source": [
    "# Q5 You are given two integer arrays nums1 and nums2, sorted in non-decreasing order, and two integers m and n, representing the number of elements in nums1 and nums2 respectively.\n",
    "\n",
    "Merge nums1 and nums2 into a single array sorted in non-decreasing order.\n",
    "\n",
    "The final sorted array should not be returned by the function, but instead be stored inside the array nums1. To accommodate this, nums1 has a length of m + n, where the first m elements denote the elements that should be merged, and the last n elements are set to 0 and should be ignored. nums2 has a length of n.\n",
    "\n",
    "**Example 1:**\n",
    "Input: nums1 = [1,2,3,0,0,0], m = 3, nums2 = [2,5,6], n = 3\n",
    "Output: [1,2,2,3,5,6]\n",
    "\n",
    "**Explanation:** The arrays we are merging are [1,2,3] and [2,5,6].\n",
    "The result of the merge is [1,2,2,3,5,6] with the underlined elements coming from nums1.\n"
   ]
  },
  {
   "cell_type": "code",
   "execution_count": null,
   "id": "2dc91ea0",
   "metadata": {},
   "outputs": [],
   "source": [
    "def merge(nums1: List[int], m: int, nums2: List[int], n: int):\n",
    "    l = m+n-1\n",
    "    while m>0 and n>0:\n",
    "        if nums1[m-1] > nums2[n-1]:\n",
    "            nums1[l] = nums1[m-1]\n",
    "            m-=1\n",
    "        else :\n",
    "            nums1[l] = nums2[n-1]\n",
    "            n-=1\n",
    "        l -=1\n",
    "    while n>0 :\n",
    "        nums1[l] = nums2[n-1]\n",
    "        n -=1\n",
    "        l-=1\n",
    "merge([1,2,3,0,0,0],3,[2,5,6],3)\n"
   ]
  },
  {
   "cell_type": "markdown",
   "id": "29416cc4",
   "metadata": {},
   "source": [
    "# Q6.** Given an integer array nums, return true if any value appears at least twice in the array, and return false if every element is distinct.\n",
    "\n",
    "**Example 1:**\n",
    "Input: nums = [1,2,3,1]\n",
    "\n",
    "Output: true"
   ]
  },
  {
   "cell_type": "code",
   "execution_count": null,
   "id": "f530f786",
   "metadata": {},
   "outputs": [],
   "source": [
    "def uniq(nums):\n",
    "    s = set(nums)\n",
    "    if len(nums)==len(s):\n",
    "        return False\n",
    "    else:\n",
    "        return True"
   ]
  },
  {
   "cell_type": "markdown",
   "id": "d0a2ed55",
   "metadata": {},
   "source": [
    "# Q7.** Given an integer array nums, move all 0's to the end of it while maintaining the relative order of the nonzero elements.\n",
    "\n",
    "Note that you must do this in-place without making a copy of the array.\n",
    "\n",
    "**Example 1:**\n",
    "Input: nums = [0,1,0,3,12]\n",
    "Output: [1,3,12,0,0]"
   ]
  },
  {
   "cell_type": "code",
   "execution_count": null,
   "id": "4ccdfaa2",
   "metadata": {},
   "outputs": [],
   "source": [
    "def inplace(nums):\n",
    "    j =0 \n",
    "    for i in range(len(nums)):\n",
    "        if nums[i] !=0:\n",
    "            nums[j],nums[i] = nums[i],nums[j]\n",
    "            j+=1\n",
    "    return nums\n"
   ]
  },
  {
   "cell_type": "markdown",
   "id": "5d365f3a",
   "metadata": {},
   "source": [
    "# Q8.You have a set of integers s, which originally contains all the numbers from 1 to n. Unfortunately, due to some error, one of the numbers in s got duplicated to another number in the set, which results in repetition of one number and loss of another number.\n",
    "\n",
    "You are given an integer array nums representing the data status of this set after the error.\n",
    "\n",
    "Find the number that occurs twice and the number that is missing and return them in the form of an array.\n",
    "\n",
    "**Example 1:**\n",
    "Input: nums = [1,2,2,4]\n",
    "Output: [2,3]"
   ]
  },
  {
   "cell_type": "code",
   "execution_count": null,
   "id": "fb30134c",
   "metadata": {},
   "outputs": [],
   "source": [
    "def findErrorNums(self, nums: List[int]) -> List[int]:\n",
    "    c=Counter(nums)\n",
    "    l=[0,0]\n",
    "    for i in range(1,len(nums)+1):\n",
    "        if c[i]==2:\n",
    "            l[0]=i\n",
    "        if c[i]==0:\n",
    "            l[1]=i\n",
    "    return l"
   ]
  }
 ],
 "metadata": {
  "kernelspec": {
   "display_name": "Python 3 (ipykernel)",
   "language": "python",
   "name": "python3"
  },
  "language_info": {
   "codemirror_mode": {
    "name": "ipython",
    "version": 3
   },
   "file_extension": ".py",
   "mimetype": "text/x-python",
   "name": "python",
   "nbconvert_exporter": "python",
   "pygments_lexer": "ipython3",
   "version": "3.9.12"
  }
 },
 "nbformat": 4,
 "nbformat_minor": 5
}
