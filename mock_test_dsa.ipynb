{
 "cells": [
  {
   "cell_type": "markdown",
   "id": "84cb4558",
   "metadata": {},
   "source": [
    "# Q1.Given a non-negative integer x, return the square root of x rounded down to the nearest integer. The returned integer should be non-negative as well. You must not use any built-in exponent function or operator. "
   ]
  },
  {
   "cell_type": "code",
   "execution_count": 3,
   "id": "bda8e060",
   "metadata": {},
   "outputs": [
    {
     "name": "stdout",
     "output_type": "stream",
     "text": [
      "2\n"
     ]
    }
   ],
   "source": [
    "def floorSqrt(x):\n",
    "\n",
    "    # Base cases\n",
    "    if (x == 0 or x == 1):\n",
    "        return x\n",
    "\n",
    "    # Starting from 1, try all numbers until\n",
    "    # i*i is greater than or equal to x.\n",
    "    i = 1\n",
    "    result = 1\n",
    "    while (result <= x):\n",
    "\n",
    "        i += 1\n",
    "        result = i * i\n",
    "\n",
    "    return i - 1\n",
    "\n",
    "x = 8\n",
    "print(floorSqrt(x))\n"
   ]
  },
  {
   "cell_type": "markdown",
   "id": "6af88e67",
   "metadata": {},
   "source": [
    "# Q2.You are given two non-empty linked lists representing two non-negative integers. The digits are stored in reverse order, and each of their nodes contains a single digit. Add the two numbers and return the sum as a linked list.\n",
    "\n",
    "You may assume the two numbers do not contain any leading zero, except the number 0 itself."
   ]
  },
  {
   "cell_type": "code",
   "execution_count": 7,
   "id": "19b142a3",
   "metadata": {},
   "outputs": [],
   "source": [
    "class ListNode:\n",
    "    def __init__(self, val=0, next=None):\n",
    "        self.val = val\n",
    "        self.next = next\n",
    "    def addTwoNumbers(l1, l2):\n",
    "        carry =0\n",
    "        dummy = ListNode()\n",
    "        curr = dummy\n",
    "        while l1 or l2 or carry :\n",
    "            temp1 = l1.val if l1 else 0\n",
    "            temp2 = l2.val if l2 else 0\n",
    "            sum = temp1 + temp2 + carry\n",
    "            carry = sum // 10\n",
    "            sum  = sum % 10\n",
    "            curr.next = ListNode(sum)\n",
    "            curr =  curr.next\n",
    "            l1 = l1.next if l1 else None\n",
    "            l2 = l2.next if l2 else None\n",
    "        return dummy.next "
   ]
  },
  {
   "cell_type": "code",
   "execution_count": null,
   "id": "88b57b77",
   "metadata": {},
   "outputs": [],
   "source": []
  }
 ],
 "metadata": {
  "kernelspec": {
   "display_name": "Python 3 (ipykernel)",
   "language": "python",
   "name": "python3"
  },
  "language_info": {
   "codemirror_mode": {
    "name": "ipython",
    "version": 3
   },
   "file_extension": ".py",
   "mimetype": "text/x-python",
   "name": "python",
   "nbconvert_exporter": "python",
   "pygments_lexer": "ipython3",
   "version": "3.9.12"
  }
 },
 "nbformat": 4,
 "nbformat_minor": 5
}
