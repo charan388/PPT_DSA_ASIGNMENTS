{
 "cells": [
  {
   "cell_type": "markdown",
   "id": "37bcb095",
   "metadata": {},
   "source": [
    "# Question 1\n",
    "Given three integer arrays arr1, arr2 and arr3 **sorted** in **strictly increasing** order, return a sorted array of **only** the integers that appeared in **all** three arrays.\n",
    "\n",
    "**Example 1:**\n",
    "\n",
    "Input: arr1 = [1,2,3,4,5], arr2 = [1,2,5,7,9], arr3 = [1,3,4,5,8]\n",
    "\n",
    "Output: [1,5]\n",
    "\n",
    "**Explanation:** Only 1 and 5 appeared in the three arrays."
   ]
  },
  {
   "cell_type": "code",
   "execution_count": 9,
   "id": "05794155",
   "metadata": {},
   "outputs": [
    {
     "data": {
      "text/plain": [
       "[1, 5]"
      ]
     },
     "execution_count": 9,
     "metadata": {},
     "output_type": "execute_result"
    }
   ],
   "source": [
    "def findCommon(ar1, ar2, ar3, n1, n2, n3):\n",
    "    i, j, k = 0, 0, 0\n",
    "    res=[]\n",
    "    while (i < n1 and j < n2 and k < n3):\n",
    "        if (ar1[i] == ar2[j] and ar2[j] == ar3[k]):\n",
    "            res.append(ar1[i])\n",
    "            i += 1\n",
    "            j += 1\n",
    "            k += 1\n",
    "\n",
    "        # x < y\n",
    "        elif ar1[i] < ar2[j]:\n",
    "            i += 1\n",
    "\n",
    "        # y < z\n",
    "        elif ar2[j] < ar3[k]:\n",
    "            j += 1\n",
    "\n",
    "        else:\n",
    "            k += 1\n",
    "    return res\n",
    "ar1 = [1,2,3,4,5]\n",
    "ar2 = [1,2,5,7,9]\n",
    "ar3 = [1,3,4,5,8]\n",
    "n1 = len(ar1)\n",
    "n2 = len(ar2)\n",
    "n3 = len(ar3)\n",
    "findCommon(ar1, ar2, ar3, n1, n2, n3)"
   ]
  },
  {
   "cell_type": "markdown",
   "id": "529d2f77",
   "metadata": {},
   "source": [
    "# Question 2**\n",
    "\n",
    "Given two **0-indexed** integer arrays nums1 and nums2, return *a list* answer *of size* 2 *where:*\n",
    "\n",
    "- answer[0] *is a list of all **distinct** integers in* nums1 *which are **not** present in* nums2*.*\n",
    "- answer[1] *is a list of all **distinct** integers in* nums2 *which are **not** present in* nums1.\n",
    "\n",
    "**Note** that the integers in the lists may be returned in **any** order.\n",
    "\n",
    "**Example 1:**\n",
    "\n",
    "**Input:** nums1 = [1,2,3], nums2 = [2,4,6]\n",
    "\n",
    "**Output:** [[1,3],[4,6]]\n",
    "\n",
    "**Explanation:**\n",
    "\n",
    "For nums1, nums1[1] = 2 is present at index 0 of nums2, whereas nums1[0] = 1 and nums1[2] = 3 are not present in nums2. Therefore, answer[0] = [1,3].\n",
    "\n",
    "For nums2, nums2[0] = 2 is present at index 1 of nums1, whereas nums2[1] = 4 and nums2[2] = 6 are not present in nums2. Therefore, answer[1] = [4,6]."
   ]
  },
  {
   "cell_type": "code",
   "execution_count": 11,
   "id": "54b1537f",
   "metadata": {},
   "outputs": [],
   "source": [
    "def findDifference(nums1, nums2):\n",
    "        l1 = []\n",
    "        l2 = []\n",
    "        res = []\n",
    "        for i in nums1:\n",
    "            if i not in nums2:\n",
    "                l1.append(i)\n",
    "        l1 = list(set(l1))\n",
    "        for j in nums2:\n",
    "            if j not in nums1:\n",
    "                l2.append(j)\n",
    "        l2 = list(set(l2))\n",
    "        res.append(l1)\n",
    "        res.append(l2)\n",
    "        return res\n"
   ]
  },
  {
   "cell_type": "markdown",
   "id": "99890488",
   "metadata": {},
   "source": [
    "# Question 3**\n",
    "Given a 2D integer array matrix, return *the **transpose** of* matrix.\n",
    "\n",
    "The **transpose** of a matrix is the matrix flipped over its main diagonal, switching the matrix's row and column indices.\n",
    "\n",
    "**Example 1:**\n",
    "\n",
    "Input: matrix = [[1,2,3],[4,5,6],[7,8,9]]\n",
    "\n",
    "Output: [[1,4,7],[2,5,8],[3,6,9]]\n"
   ]
  },
  {
   "cell_type": "code",
   "execution_count": 14,
   "id": "5307f3b8",
   "metadata": {},
   "outputs": [
    {
     "data": {
      "text/plain": [
       "[[1, 4, 7], [2, 5, 8], [3, 6, 9]]"
      ]
     },
     "execution_count": 14,
     "metadata": {},
     "output_type": "execute_result"
    }
   ],
   "source": [
    "def transpose(matrix):\n",
    "        result = [[matrix[i][j] for i in range(len(matrix))] for j in range(len(matrix[0]))]\n",
    "        return result\n",
    "matrix = [[1,2,3],[4,5,6],[7,8,9]]\n",
    "transpose(matrix)"
   ]
  },
  {
   "cell_type": "markdown",
   "id": "d903a262",
   "metadata": {},
   "source": [
    "# Question 4**\n",
    "Given an integer array nums of 2n integers, group these integers into n pairs (a1, b1), (a2, b2), ..., (an, bn) such that the sum of min(ai, bi) for all i is **maximized**. Return *the maximized sum*.\n",
    "\n",
    "**Example 1:**\n",
    "\n",
    "Input: nums = [1,4,3,2]\n",
    "\n",
    "Output: 4\n",
    "\n",
    "**Explanation:** All possible pairings (ignoring the ordering of elements) are:\n",
    "\n",
    "1. (1, 4), (2, 3) -> min(1, 4) + min(2, 3) = 1 + 2 = 3\n",
    "\n",
    "2. (1, 3), (2, 4) -> min(1, 3) + min(2, 4) = 1 + 2 = 3\n",
    "\n",
    "3. (1, 2), (3, 4) -> min(1, 2) + min(3, 4) = 1 + 3 = 4\n",
    "\n",
    "So the maximum possible sum is 4.\n"
   ]
  },
  {
   "cell_type": "code",
   "execution_count": 15,
   "id": "793bbfe0",
   "metadata": {},
   "outputs": [],
   "source": [
    "def arrayPairSum(self, nums):\n",
    "    K = 10000\n",
    "    element_to_count = [0] * (2 * K + 1)\n",
    "    for element in nums:\n",
    "       \n",
    "        element_to_count[element + K] += 1\n",
    "\n",
    "    \n",
    "    max_sum = 0\n",
    "    is_even_index = True\n",
    "    for element in range(2 * K + 1):\n",
    "        while element_to_count[element] > 0 :\n",
    "           \n",
    "            if is_even_index:\n",
    "                max_sum += element - K\n",
    "         \n",
    "            is_even_index = not is_even_index;\n",
    "            \n",
    "            element_to_count[element] -= 1\n",
    "    return max_sum"
   ]
  },
  {
   "cell_type": "markdown",
   "id": "ec41b512",
   "metadata": {},
   "source": [
    "## question 5\n",
    "You have n coins and you want to build a staircase with these coins. The staircase consists of k rows where the ith row has exactly i coins. The last row of the staircase **may be** incomplete.\n",
    "\n",
    "Given the integer n, return *the number of **complete rows** of the staircase you will build*.\n"
   ]
  },
  {
   "cell_type": "code",
   "execution_count": 17,
   "id": "b86bf8f1",
   "metadata": {},
   "outputs": [],
   "source": [
    "class Solution:\n",
    "    def arrangeCoins(n):\n",
    "        left, right = 0, n\n",
    "        while left <= right:\n",
    "            k = (right + left) // 2\n",
    "            curr = k * (k + 1) // 2\n",
    "            if curr == n:\n",
    "                return k\n",
    "            if n < curr:\n",
    "                right = k - 1\n",
    "            else:\n",
    "                left = k + 1\n",
    "        return right"
   ]
  },
  {
   "cell_type": "markdown",
   "id": "223a1016",
   "metadata": {},
   "source": [
    "# Question 6**\n",
    "Given an integer array nums sorted in **non-decreasing** order, return *an array of **the squares of each number** sorted in non-decreasing order*.\n",
    "\n",
    "**Example 1:**\n",
    "\n",
    "Input: nums = [-4,-1,0,3,10]\n",
    "\n",
    "Output: [0,1,9,16,100]\n"
   ]
  },
  {
   "cell_type": "code",
   "execution_count": 18,
   "id": "61703a6b",
   "metadata": {},
   "outputs": [],
   "source": [
    "\n",
    "def sortedSquares(nums):\n",
    "    a=[i*i for i in nums]\n",
    "    return sorted(a)"
   ]
  },
  {
   "cell_type": "markdown",
   "id": "b2aeb199",
   "metadata": {},
   "source": [
    "# Question 7**\n",
    "You are given an m x n matrix M initialized with all 0's and an array of operations ops, where ops[i] = [ai, bi] means M[x][y] should be incremented by one for all 0 <= x < ai and 0 <= y < bi.\n",
    "\n",
    "Count and return *the number of maximum integers in the matrix after performing all the operations*\n"
   ]
  },
  {
   "cell_type": "code",
   "execution_count": 19,
   "id": "7982bec0",
   "metadata": {},
   "outputs": [],
   "source": [
    "\n",
    "def maxCount(m, n,ops):\n",
    "    minRow = m\n",
    "    minCol = n\n",
    "    for x, y in ops:\n",
    "        minRow = min(x, minRow)\n",
    "        minCol = min(y, minCol)\n",
    "    return minRow*minCol"
   ]
  },
  {
   "cell_type": "markdown",
   "id": "1d648b6b",
   "metadata": {},
   "source": [
    "# Question 8\n",
    "\n",
    "Given the array nums consisting of 2n elements in the form [x1,x2,...,xn,y1,y2,...,yn].\n",
    "\n",
    "*Return the array in the form* [x1,y1,x2,y2,...,xn,yn].\n",
    "\n",
    "**Example 1:**\n",
    "\n",
    "**Input:** nums = [2,5,1,3,4,7], n = 3\n",
    "\n",
    "**Output:** [2,3,5,4,1,7]\n"
   ]
  },
  {
   "cell_type": "code",
   "execution_count": 20,
   "id": "ceb27167",
   "metadata": {},
   "outputs": [],
   "source": [
    "\n",
    "def shuffle(nums, n):\n",
    "    result = [0] * (2 * n)\n",
    "    for i in range(n):\n",
    "        result[2 * i] = nums[i]\n",
    "        result[2 * i + 1] = nums[n + i]\n",
    "    return result"
   ]
  },
  {
   "cell_type": "code",
   "execution_count": null,
   "id": "2c2157cd",
   "metadata": {},
   "outputs": [],
   "source": []
  }
 ],
 "metadata": {
  "kernelspec": {
   "display_name": "Python 3 (ipykernel)",
   "language": "python",
   "name": "python3"
  },
  "language_info": {
   "codemirror_mode": {
    "name": "ipython",
    "version": 3
   },
   "file_extension": ".py",
   "mimetype": "text/x-python",
   "name": "python",
   "nbconvert_exporter": "python",
   "pygments_lexer": "ipython3",
   "version": "3.9.12"
  }
 },
 "nbformat": 4,
 "nbformat_minor": 5
}
