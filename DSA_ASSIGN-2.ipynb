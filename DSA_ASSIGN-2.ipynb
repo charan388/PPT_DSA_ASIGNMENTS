{
 "cells": [
  {
   "cell_type": "markdown",
   "id": "9d48573f",
   "metadata": {},
   "source": [
    "# Question 1\n",
    "Given an integer array nums of 2n integers, group these integers into n pairs (a1, b1), (a2, b2),..., (an, bn) such that the sum of min(ai, bi) for all i is maximized. Return the maximized sum.\n",
    "\n",
    "**Example 1:**\n",
    "Input: nums = [1,4,3,2]\n",
    "Output: 4\n",
    "\n",
    "**Explanation:** All possible pairings (ignoring the ordering of elements) are:\n",
    "\n",
    "1. (1, 4), (2, 3) -> min(1, 4) + min(2, 3) = 1 + 2 = 3\n",
    "2. (1, 3), (2, 4) -> min(1, 3) + min(2, 4) = 1 + 2 = 3\n",
    "3. (1, 2), (3, 4) -> min(1, 2) + min(3, 4) = 1 + 3 = 4\n",
    "So the maximum possible sum is 4"
   ]
  },
  {
   "cell_type": "code",
   "execution_count": 5,
   "id": "0d0df8b8",
   "metadata": {},
   "outputs": [],
   "source": [
    "\n",
    "def arrayPairSum(self, nums):\n",
    "    K = 10000\n",
    "    # Store the frequency of each element\n",
    "    element_to_count = [0] * (2 * K + 1)\n",
    "    for element in nums:\n",
    "        # Add K to element to offset negative values\n",
    "        element_to_count[element + K] += 1\n",
    "\n",
    "    # Initialize sum to zero\n",
    "    max_sum = 0\n",
    "    is_even_index = True\n",
    "    for element in range(2 * K + 1):\n",
    "        while element_to_count[element] > 0 :\n",
    "            # Add element if it is at even index\n",
    "            if is_even_index:\n",
    "                max_sum += element - K\n",
    "            # Flip the value (one to zero or zero to one)\n",
    "            is_even_index = not is_even_index;\n",
    "            # Decrement the frequency count\n",
    "            element_to_count[element] -= 1\n",
    "    return max_sum\n"
   ]
  },
  {
   "cell_type": "markdown",
   "id": "ee26e4cc",
   "metadata": {},
   "source": [
    "# Alice has n candies, where the ith candy is of type candyType[i]. Alice noticed that she started to gain weight, so she visited a doctor. \n",
    "\n",
    "The doctor advised Alice to only eat n / 2 of the candies she has (n is always even). Alice likes her candies very much, and she wants to eat the maximum number of different types of candies while still following the doctor's advice. \n",
    "\n",
    "Given the integer array candyType of length n, return the maximum number of different types of candies she can eat if she only eats n / 2 of them.\n",
    "\n",
    "Example 1:\n",
    "Input: candyType = [1,1,2,2,3,3]\n",
    "Output: 3\n",
    "\n",
    "Explanation: Alice can only eat 6 / 2 = 3 candies. Since there are only 3 types, she can eat one of each type."
   ]
  },
  {
   "cell_type": "code",
   "execution_count": 2,
   "id": "9a422d7d",
   "metadata": {},
   "outputs": [],
   "source": [
    "def distributeCandies(candyType):\n",
    "    l = len(candyType)\n",
    "    eat = l//2\n",
    "    dis_candyType = set(candyType)\n",
    "\n",
    "    if eat <= len(dis_candyType):\n",
    "        return eat\n",
    "\n",
    "    elif eat > len(dis_candyType):\n",
    "        return len(dis_candyType) "
   ]
  },
  {
   "cell_type": "code",
   "execution_count": null,
   "id": "a1c03ea1",
   "metadata": {},
   "outputs": [],
   "source": [
    "# We define a harmonious array as an array where the difference between its maximum value\n",
    "and its minimum value is exactly 1.\n",
    "\n",
    "Given an integer array nums, return the length of its longest harmonious subsequence\n",
    "among all its possible subsequences.\n",
    "\n",
    "A subsequence of an array is a sequence that can be derived from the array by deleting some or no elements without changing the order of the remaining elements.\n",
    "\n",
    "Example 1:\n",
    "Input: nums = [1,3,2,2,5,2,3,7]\n",
    "Output: 5\n",
    "\n",
    "Explanation: The longest harmonious subsequence is [3,2,2,2,3]."
   ]
  },
  {
   "cell_type": "code",
   "execution_count": 9,
   "id": "42c5c840",
   "metadata": {},
   "outputs": [],
   "source": [
    "class Solution:\n",
    "    def findLHS(nums):\n",
    "        freq = Counter(nums)\n",
    "        max_length = 0\n",
    "        \n",
    "        for key in freq:\n",
    "            if key + 1 in freq:\n",
    "                max_length = max(max_length, freq[key] + freq[key+1])\n",
    "                \n",
    "        return max_length"
   ]
  },
  {
   "cell_type": "code",
   "execution_count": null,
   "id": "4afe1a09",
   "metadata": {},
   "outputs": [],
   "source": [
    "# You have a long flowerbed in which some of the plots are planted, and some are not.\n",
    "However, flowers cannot be planted in adjacent plots.\n",
    "Given an integer array flowerbed containing 0's and 1's, where 0 means empty and 1 means not empty, and an integer n, return true if n new flowers can be planted in the flowerbed without violating the no-adjacent-flowers rule and false otherwise.\n",
    "\n",
    "Example 1:\n",
    "Input: flowerbed = [1,0,0,0,1], n = 1\n",
    "Output: true"
   ]
  },
  {
   "cell_type": "code",
   "execution_count": 10,
   "id": "a24e93b4",
   "metadata": {},
   "outputs": [],
   "source": [
    "def canPlaceFlowers(flowerbed, n):\n",
    "    count = 0\n",
    "    for i in range(len(flowerbed)):\n",
    "        # Check if the current plot is empty.\n",
    "        if flowerbed[i] == 0:\n",
    "            # Check if the left and right plots are empty.\n",
    "            empty_left_plot = (i == 0) or (flowerbed[i - 1] == 0)\n",
    "            empty_right_lot = (i == len(flowerbed) - 1) or (flowerbed[i + 1] == 0)\n",
    "\n",
    "            # If both plots are empty, we can plant a flower here.\n",
    "            if empty_left_plot and empty_right_lot:\n",
    "                flowerbed[i] = 1\n",
    "                count += 1\n",
    "\n",
    "    return count >= n"
   ]
  },
  {
   "cell_type": "code",
   "execution_count": null,
   "id": "3a202dbb",
   "metadata": {},
   "outputs": [],
   "source": [
    "#Given an integer array nums, find three numbers whose product is maximum and return the maximum product.\n",
    "\n",
    "Example 1:\n",
    "Input: nums = [1,2,3]\n",
    "Output: 6"
   ]
  },
  {
   "cell_type": "code",
   "execution_count": 11,
   "id": "7b9a19b0",
   "metadata": {},
   "outputs": [],
   "source": [
    "def maximumProduct(nums):\n",
    "    a, b = heapq.nlargest(3, nums), heapq.nsmallest(2, nums)\n",
    "    return max(a[0] * a[1] * a[2], b[0] * b[1] * a[0])"
   ]
  },
  {
   "cell_type": "code",
   "execution_count": null,
   "id": "9ce5ebef",
   "metadata": {},
   "outputs": [],
   "source": [
    "#Given an array of integers nums which is sorted in ascending order, and an integer target,\n",
    "write a function to search target in nums. If target exists, then return its index. Otherwise,\n",
    "return -1.\n",
    "\n",
    "You must write an algorithm with O(log n) runtime complexity.\n",
    "\n",
    "Input: nums = [-1,0,3,5,9,12], target = 9\n",
    "Output: 4\n",
    "\n",
    "Explanation: 9 exists in nums and its index is 4"
   ]
  },
  {
   "cell_type": "code",
   "execution_count": 13,
   "id": "0d83b5dd",
   "metadata": {},
   "outputs": [],
   "source": [
    "def search(nums, target):\n",
    "    l = 0\n",
    "    r = len(nums)-1\n",
    "    mid =0\n",
    "    while l<=r:\n",
    "        mid = (l+r)//2\n",
    "        if target > nums[mid]:\n",
    "            l=mid+1\n",
    "        elif target < nums[mid]:\n",
    "            r=mid-1\n",
    "        else:\n",
    "            return mid\n",
    "    return -1\n"
   ]
  },
  {
   "cell_type": "code",
   "execution_count": null,
   "id": "4b180439",
   "metadata": {},
   "outputs": [],
   "source": [
    "# An array is monotonic if it is either monotone increasing or monotone decreasing.\n",
    "\n",
    "An array nums is monotone increasing if for all i <= j, nums[i] <= nums[j]. An array nums is\n",
    "monotone decreasing if for all i <= j, nums[i] >= nums[j].\n",
    "\n",
    "Given an integer array nums, return true if the given array is monotonic, or false otherwise.\n",
    "\n",
    "Example 1:\n",
    "Input: nums = [1,2,2,3]\n",
    "Output: true"
   ]
  },
  {
   "cell_type": "code",
   "execution_count": 14,
   "id": "8efba329",
   "metadata": {},
   "outputs": [],
   "source": [
    "def isMonotonic(A):\n",
    "    return (all(A[i] <= A[i+1] for i in xrange(len(A) - 1)) or\n",
    "            all(A[i] >= A[i+1] for i in xrange(len(A) - 1)))"
   ]
  },
  {
   "cell_type": "code",
   "execution_count": null,
   "id": "86e6c24e",
   "metadata": {},
   "outputs": [],
   "source": [
    "# You are given an integer array nums and an integer k.\n",
    "\n",
    "In one operation, you can choose any index i where 0 <= i < nums.length and change nums[i] to nums[i] + x where x is an integer from the range [-k, k]. You can apply this operation at most once for each index i.\n",
    "\n",
    "The score of nums is the difference between the maximum and minimum elements in nums.\n",
    "\n",
    "Return the minimum score of nums after applying the mentioned operation at most once for each index in it.\n",
    "\n",
    "Example 1:\n",
    "Input: nums = [1], k = 0\n",
    "Output: 0\n",
    "\n",
    "Explanation: The score is max(nums) - min(nums) = 1 - 1 = 0."
   ]
  },
  {
   "cell_type": "code",
   "execution_count": 15,
   "id": "8e794e43",
   "metadata": {},
   "outputs": [],
   "source": [
    "def smallestRangeI(nums, k):\n",
    "    if len(nums)==1:\n",
    "        return 0\n",
    "    else:\n",
    "        return max(0,max(nums)-min(nums)-2*k)"
   ]
  },
  {
   "cell_type": "code",
   "execution_count": null,
   "id": "f9cb8cfe",
   "metadata": {},
   "outputs": [],
   "source": []
  }
 ],
 "metadata": {
  "kernelspec": {
   "display_name": "Python 3 (ipykernel)",
   "language": "python",
   "name": "python3"
  },
  "language_info": {
   "codemirror_mode": {
    "name": "ipython",
    "version": 3
   },
   "file_extension": ".py",
   "mimetype": "text/x-python",
   "name": "python",
   "nbconvert_exporter": "python",
   "pygments_lexer": "ipython3",
   "version": "3.9.12"
  }
 },
 "nbformat": 4,
 "nbformat_minor": 5
}
