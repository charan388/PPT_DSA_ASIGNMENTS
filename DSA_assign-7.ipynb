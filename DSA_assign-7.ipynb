{
 "cells": [
  {
   "cell_type": "markdown",
   "id": "20f306f4",
   "metadata": {},
   "source": [
    "# Given two strings s and t, *determine if they are isomorphic*.\n",
    "\n",
    "Two strings s and t are isomorphic if the characters in s can be replaced to get t.\n",
    "\n",
    "All occurrences of a character must be replaced with another character while preserving the order of characters. No two characters may map to the same character, but a character may map to itself.\n",
    "\n",
    "**Example 1:**\n",
    "\n",
    "**Input:** s = \"egg\", t = \"add\"\n",
    "\n",
    "**Output:** true"
   ]
  },
  {
   "cell_type": "code",
   "execution_count": 33,
   "id": "b09c6baa",
   "metadata": {},
   "outputs": [],
   "source": [
    "def isIsomorphic(s,t):\n",
    "        if len(s) != len(t):\n",
    "            return False\n",
    "    \n",
    "        s_to_t = {}\n",
    "        t_to_s = {}\n",
    "    \n",
    "        for i in range(len(s)):\n",
    "            if s[i] in s_to_t:\n",
    "                if s_to_t[s[i]] != t[i]:\n",
    "                    return False\n",
    "            else:\n",
    "                if t[i] in t_to_s:\n",
    "                    return False\n",
    "                s_to_t[s[i]] = t[i]\n",
    "                t_to_s[t[i]] = s[i]\n",
    "    \n",
    "        return True"
   ]
  },
  {
   "cell_type": "markdown",
   "id": "3dbf91a9",
   "metadata": {},
   "source": [
    "# Given a string num which represents an integer, return true *if* num *is a **strobogrammatic number***.\n",
    "\n",
    "A **strobogrammatic number** is a number that looks the same when rotated 180 degrees (looked at upside down).\n",
    "\n",
    "**Example 1:**\n",
    "\n",
    "**Input:** num = \"69\"\n",
    "\n",
    "**Output:**\n",
    "\n",
    "true"
   ]
  },
  {
   "cell_type": "code",
   "execution_count": 37,
   "id": "8dd8b1cf",
   "metadata": {},
   "outputs": [
    {
     "data": {
      "text/plain": [
       "True"
      ]
     },
     "execution_count": 37,
     "metadata": {},
     "output_type": "execute_result"
    }
   ],
   "source": [
    "def stobo(nums):\n",
    "    maps = {(\"0\", \"0\"), (\"1\", \"1\"), (\"6\", \"9\"), (\"8\", \"8\"), (\"9\", \"6\")}\n",
    "    l=0\n",
    "    r = len(nums)-1\n",
    "    while l<r:\n",
    "        if (nums[l],nums[r]) not in maps:\n",
    "            return False\n",
    "        l+=1\n",
    "        r-=1\n",
    "        return True\n",
    "stobo (\"69\")"
   ]
  },
  {
   "cell_type": "markdown",
   "id": "9f286700",
   "metadata": {},
   "source": [
    "# Given two non-negative integers, num1 and num2 represented as string, return *the sum of* num1 *and* num2 *as a string*.\n",
    "\n",
    "You must solve the problem without using any built-in library for handling large integers (such as BigInteger). You must also not convert the inputs to integers directly.\n",
    "\n",
    "**Example 1:**\n",
    "\n",
    "**Input:** num1 = \"11\", num2 = \"123\"\n",
    "\n",
    "**Output:**\n",
    "\n",
    "\"134\""
   ]
  },
  {
   "cell_type": "code",
   "execution_count": 38,
   "id": "f051bd22",
   "metadata": {},
   "outputs": [
    {
     "name": "stdout",
     "output_type": "stream",
     "text": [
      "134\n"
     ]
    }
   ],
   "source": [
    "def str_to_num(s):\n",
    "    num =0\n",
    "    for i in s:\n",
    "        num =num*10+ord(i)-48\n",
    "    return num\n",
    "num1 = \"11\"\n",
    "num2 = \"123\"\n",
    "sum =str_to_num(num1) + str_to_num(num2)\n",
    "print(str(sum))"
   ]
  },
  {
   "cell_type": "markdown",
   "id": "5d156d37",
   "metadata": {},
   "source": [
    "# Given a string s, reverse the order of characters in each word within a sentence while still preserving whitespace and initial word order.\n",
    "\n",
    "**Example 1:**\n",
    "\n",
    "**Input:** s = \"Let's take LeetCode contest\"\n",
    "\n",
    "**Output:** \"s'teL ekat edoCteeL tsetnoc\""
   ]
  },
  {
   "cell_type": "code",
   "execution_count": 45,
   "id": "61fdbb28",
   "metadata": {},
   "outputs": [
    {
     "data": {
      "text/plain": [
       "\"s'teL ekat edoCteeL tsetnoc\""
      ]
     },
     "execution_count": 45,
     "metadata": {},
     "output_type": "execute_result"
    }
   ],
   "source": [
    "\n",
    "def reverseWords(s):\n",
    "\n",
    "    w = \"\"\n",
    "    reversedword = \"\"\n",
    "\n",
    "    def reverseWord(word):\n",
    "        word = list(word)\n",
    "        l = 0\n",
    "        r = len(word) - 1\n",
    "\n",
    "        while l <= r:\n",
    "            word[l], word[r] = word[r], word[l]\n",
    "            l += 1\n",
    "            r -= 1\n",
    "        return ''.join(word)\n",
    "\n",
    "    for i in s:\n",
    "        if i!= \" \":\n",
    "            w += i\n",
    "        else:\n",
    "            reversedword += reverseWord(w)+\" \"\n",
    "            w = \"\"\n",
    "    return reversedword + reverseWord(w)       \n",
    "\n",
    "\n",
    "reverseWords(\"Let's take LeetCode contest\") "
   ]
  },
  {
   "cell_type": "markdown",
   "id": "293707c9",
   "metadata": {},
   "source": [
    "# given a string s and an integer k, reverse the first k characters for every 2k characters counting from the start of the string.\n",
    "\n",
    "If there are fewer than k characters left, reverse all of them. If there are less than 2k but greater than or equal to k characters, then reverse the first k characters and leave the other as original.\n",
    "\n",
    "**Example 1:**\n",
    "\n",
    "**Input:** s = \"abcdefg\", k = 2\n",
    "\n",
    "**Output:**\n",
    "\n",
    "\"bacdfeg\""
   ]
  },
  {
   "cell_type": "code",
   "execution_count": 73,
   "id": "c9516e6a",
   "metadata": {},
   "outputs": [],
   "source": [
    "def reverseStr(s, k):\n",
    "    a = list(s)\n",
    "    for i in xrange(0, len(a), 2*k):\n",
    "        a[i:i+k] = reversed(a[i:i+k])\n",
    "    return \"\".join(a)\n"
   ]
  },
  {
   "cell_type": "markdown",
   "id": "efeb9513",
   "metadata": {},
   "source": [
    "# Question 6**\n",
    "\n",
    "Given two strings s and goal, return true *if and only if* s *can become* goal *after some number of **shifts** on* s.\n",
    "\n",
    "A **shift** on s consists of moving the leftmost character of s to the rightmost position.\n",
    "\n",
    "- For example, if s = \"abcde\", then it will be \"bcdea\" after one shift.\n",
    "\n",
    "**Example 1:**\n",
    "\n",
    "**Input:** s = \"abcde\", goal = \"cdeab\"\n",
    "\n",
    "**Output:**\n",
    "\n",
    "true"
   ]
  },
  {
   "cell_type": "code",
   "execution_count": 74,
   "id": "1b595873",
   "metadata": {},
   "outputs": [],
   "source": [
    "\n",
    "def rotateString(self, A, B):\n",
    "    if len(A) != len(B):\n",
    "        return False\n",
    "    if len(A) == 0:\n",
    "        return True\n",
    "\n",
    "    for s in range(len(A)):\n",
    "        if all(A[(s+i) % len(A)] == B[i] for i in xrange(len(A))):\n",
    "            return True\n",
    "    return False"
   ]
  },
  {
   "cell_type": "markdown",
   "id": "5fdb012b",
   "metadata": {},
   "source": [
    "# Given two strings s and t, return true *if they are equal when both are typed into empty text editors*. '#' means a backspace character.\n",
    "\n",
    "Note that after backspacing an empty text, the text will continue empty.\n",
    "\n",
    "**Example 1:**\n",
    "\n",
    "**Input:** s = \"ab#c\", t = \"ad#c\"\n",
    "\n",
    "**Output:** true\n",
    "\n",
    "**Explanation:**\n",
    "\n",
    "Both s and t become \"ac\"."
   ]
  },
  {
   "cell_type": "code",
   "execution_count": 75,
   "id": "30dc286d",
   "metadata": {},
   "outputs": [],
   "source": [
    "\n",
    "def backspaceCompare(s,t):\n",
    "    x=[]\n",
    "    y=[]\n",
    "    for i in range(len(s)):\n",
    "        if x and s[i]==\"#\":\n",
    "            x.pop()\n",
    "        else:\n",
    "            if s[i]!=\"#\":\n",
    "                x.append(s[i])\n",
    "    for i in range(len(t)):\n",
    "        if y and t[i]==\"#\":\n",
    "            y.pop()\n",
    "        else:\n",
    "            if t[i]!=\"#\":\n",
    "                y.append(t[i])\n",
    "    if x==y:\n",
    "        return True\n",
    "    return False"
   ]
  },
  {
   "cell_type": "markdown",
   "id": "bb5a47be",
   "metadata": {},
   "source": [
    "# You are given an array coordinates, coordinates[i] = [x, y], where [x, y] represents the coordinate of a point. Check if these points make a straight line in the XY plane.\n",
    "\n",
    "**Example 1:**"
   ]
  },
  {
   "cell_type": "code",
   "execution_count": 76,
   "id": "50a05805",
   "metadata": {},
   "outputs": [],
   "source": [
    "\n",
    "def checkStraightLine(coordinates):\n",
    "    n = len(coordinates)\n",
    "\n",
    "    x1, y1 = coordinates[0]\n",
    "    x2, y2 = coordinates[1]\n",
    "\n",
    "    for i in range(2, n):\n",
    "        x, y = coordinates[i]\n",
    "\n",
    "        if (y - y1) * (x - x2) != (y - y2) * (x - x1):\n",
    "            return False\n",
    "\n",
    "    return True"
   ]
  },
  {
   "cell_type": "code",
   "execution_count": null,
   "id": "5ebcbdaa",
   "metadata": {},
   "outputs": [],
   "source": []
  }
 ],
 "metadata": {
  "kernelspec": {
   "display_name": "Python 3 (ipykernel)",
   "language": "python",
   "name": "python3"
  },
  "language_info": {
   "codemirror_mode": {
    "name": "ipython",
    "version": 3
   },
   "file_extension": ".py",
   "mimetype": "text/x-python",
   "name": "python",
   "nbconvert_exporter": "python",
   "pygments_lexer": "ipython3",
   "version": "3.9.12"
  }
 },
 "nbformat": 4,
 "nbformat_minor": 5
}
