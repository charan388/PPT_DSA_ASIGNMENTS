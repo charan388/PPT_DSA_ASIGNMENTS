{
 "cells": [
  {
   "cell_type": "markdown",
   "id": "64a5ece5",
   "metadata": {},
   "source": [
    "# Question 1**\n",
    "\n",
    "Convert 1D Array Into 2D Array\n",
    "\n",
    "You are given a **0-indexed** 1-dimensional (1D) integer array original, and two integers, m and n. You are tasked with creating a 2-dimensional (2D) array with  m rows and n columns using **all** the elements from original.\n",
    "\n",
    "The elements from indices 0 to n - 1 (**inclusive**) of original should form the first row of the constructed 2D array, the elements from indices n to 2 * n - 1 (**inclusive**) should form the second row of the constructed 2D array, and so on.\n",
    "\n",
    "Return *an* m x n *2D array constructed according to the above procedure, or an empty 2D array if it is impossible*.\n"
   ]
  },
  {
   "cell_type": "code",
   "execution_count": 7,
   "id": "e6e359f9",
   "metadata": {},
   "outputs": [],
   "source": [
    "def construct2DArray(original, m, n):\n",
    "    if m*n != len(original):\n",
    "        return []\n",
    "    j=0\n",
    "    k =n\n",
    "    fl = [[] for _ in range(m)]\n",
    "    for i in fl:\n",
    "        i.extend(original[j:j+n])\n",
    "        j+=n\n",
    "    return fl        "
   ]
  },
  {
   "cell_type": "markdown",
   "id": "3b9c6f66",
   "metadata": {},
   "source": [
    "# Q2\n",
    "You have n coins and you want to build a staircase with these coins. The staircase consists of k rows where the ith row has exactly i coins. The last row of the staircase **may be** incomplete.\n",
    "\n",
    "Given the integer n, return *the number of **complete rows** of the staircase you will build*.\n",
    "\n",
    "**Example 1:**"
   ]
  },
  {
   "cell_type": "code",
   "execution_count": 6,
   "id": "00da1962",
   "metadata": {},
   "outputs": [],
   "source": [
    "def arrangeCoins(n):\n",
    "        if n==1:\n",
    "            return 1\n",
    "        for i in range(n+1):\n",
    "            n-=i\n",
    "            if n<0:\n",
    "                return i-1\n",
    "        if n == 0:\n",
    "            return i"
   ]
  },
  {
   "cell_type": "markdown",
   "id": "734de8fe",
   "metadata": {},
   "source": [
    "# Given an integer array nums sorted in **non-decreasing** order, return *an array of **the squares of each number** sorted in non-decreasing order*.\n",
    "\n",
    "**Example 1:**\n",
    "\n",
    "**Input:** nums = [-4,-1,0,3,10]\n",
    "\n",
    "**Output:** [0,1,9,16,100]\n",
    "\n",
    "**Explanation:** After squaring, the array becomes [16,1,0,9,100].\n",
    "\n",
    "After sorting, it becomes [0,1,9,16,100]."
   ]
  },
  {
   "cell_type": "code",
   "execution_count": 5,
   "id": "ccffe5a0",
   "metadata": {},
   "outputs": [],
   "source": [
    "def sortedSquares(nums):\n",
    "        nums.sort()\n",
    "        for i in range(len(nums)):\n",
    "            nums[i]= nums[i]**2\n",
    "        return nums.sort()"
   ]
  },
  {
   "cell_type": "markdown",
   "id": "2d00182d",
   "metadata": {},
   "source": [
    "# Given two **0-indexed** integer arrays nums1 and nums2, return *a list* answer *of size* 2 *where:*\n",
    "\n",
    "- answer[0] *is a list of all **distinct** integers in* nums1 *which are **not** present in* nums2*.*\n",
    "- answer[1] *is a list of all **distinct** integers in* nums2 *which are **not** present in* nums1.\n",
    "\n",
    "**Note** that the integers in the lists may be returned in **any** order.\n",
    "\n",
    "**Example 1:**\n",
    "\n",
    "**Input:** nums1 = [1,2,3], nums2 = [2,4,6]\n",
    "\n",
    "**Output:** [[1,3],[4,6]]\n",
    "\n",
    "**Explanation:**\n",
    "\n",
    "For nums1, nums1[1] = 2 is present at index 0 of nums2, whereas nums1[0] = 1 and nums1[2] = 3 are not present in nums2. Therefore, answer[0] = [1,3].\n",
    "\n",
    "For nums2, nums2[0] = 2 is present at index 1 of nums1, whereas nums2[1] = 4 and nums2[2] = 6 are not present in nums2. Therefore, answer[1] = [4,6]."
   ]
  },
  {
   "cell_type": "code",
   "execution_count": 4,
   "id": "76c5d7ec",
   "metadata": {},
   "outputs": [],
   "source": [
    "def findDifference(nums1, nums2):\n",
    "        s1 = set(nums1)\n",
    "        s2 = set(nums2)\n",
    "        return [list(s1-s2),list(s2-s1)]\n",
    "        "
   ]
  },
  {
   "cell_type": "markdown",
   "id": "96532741",
   "metadata": {},
   "source": [
    "# Given two integer arrays arr1 and arr2, and the integer d, *return the distance value between the two arrays*.\n",
    "\n",
    "The distance value is defined as the number of elements arr1[i] such that there is not any element arr2[j] where |arr1[i]-arr2[j]| <= d.\n",
    "\n",
    "**Example 1:**\n",
    "\n",
    "**Input:** arr1 = [4,5,8], arr2 = [10,9,1,8], d = 2"
   ]
  },
  {
   "cell_type": "code",
   "execution_count": null,
   "id": "302ad762",
   "metadata": {},
   "outputs": [],
   "source": [
    "def findTheDistanceValue(arr1, arr2, d):\n",
    "        def binSearch(value: int) -> int:\n",
    "            low, high = 0, len(arr2) - 1 \n",
    "\n",
    "            # Repeat until the pointers low and high meet each other\n",
    "            while low <= high:              \n",
    "                mid = (low + high) // 2\n",
    "\n",
    "                if abs(value-arr2[mid]) <= d: \n",
    "                    return 0\n",
    "                if v > arr2[mid]: \n",
    "                    low = mid + 1               \n",
    "                else: \n",
    "                    high = mid - 1             \n",
    "            \n",
    "            # no such value found where diff <= d\n",
    "            return 1\n",
    "\n",
    "        # sort the array so that we can perform binary-search\n",
    "        arr2.sort()\n",
    "\n",
    "        # distance value count\n",
    "        dValueCount = 0\n",
    "        \n",
    "        # search for diff <= d for each num \n",
    "        for v in arr1:\n",
    "            dValueCount += binSearch(v)\n",
    "        return dValueCount"
   ]
  },
  {
   "cell_type": "markdown",
   "id": "4b5c9e9d",
   "metadata": {},
   "source": [
    "# Given an integer array nums of length n where all the integers of nums are in the range [1, n] and each integer appears **once** or **twice**, return *an array of all the integers that appears **twice***.\n",
    "\n",
    "You must write an algorithm that runs in O(n) time and uses only constant extra space.\n",
    "\n",
    "**Example 1:**\n",
    "\n",
    "**Input:** nums = [4,3,2,7,8,2,3,1]\n",
    "\n",
    "**Output:**\n",
    "\n",
    "[2,3]"
   ]
  },
  {
   "cell_type": "code",
   "execution_count": 3,
   "id": "ee7a05ed",
   "metadata": {},
   "outputs": [],
   "source": [
    "def findDuplicates(nums):\n",
    "    d = {}\n",
    "    for i in nums:\n",
    "        if i in d:\n",
    "            d[i]+=1\n",
    "        else:\n",
    "            d[i]=1\n",
    "    res =[]\n",
    "    for i,v in d.items():\n",
    "        if v>1:\n",
    "            res.append(i)\n",
    "    return res"
   ]
  },
  {
   "cell_type": "markdown",
   "id": "ffe68023",
   "metadata": {},
   "source": [
    "# **Question 7**\n",
    "\n",
    "Suppose an array of length n sorted in ascending order is **rotated** between 1 and n times. For example, the array nums = [0,1,2,4,5,6,7] might become:\n",
    "\n",
    "- [4,5,6,7,0,1,2] if it was rotated 4 times.\n",
    "- [0,1,2,4,5,6,7] if it was rotated 7 times.\n",
    "\n",
    "Notice that **rotating** an array [a[0], a[1], a[2], ..., a[n-1]] 1 time results in the array [a[n-1], a[0], a[1], a[2], ..., a[n-2]].\n",
    "\n",
    "Given the sorted rotated array nums of **unique** elements, return *the minimum element of this array*.\n",
    "\n",
    "You must write an algorithm that runs in O(log n) time.\n",
    "\n",
    "**Example 1:**\n",
    "\n",
    "**Input:** nums = [3,4,5,1,2]\n",
    "\n",
    "**Output:** 1\n",
    "\n",
    "**Explanation:**\n",
    "\n",
    "The original array was [1,2,3,4,5] rotated 3 times."
   ]
  },
  {
   "cell_type": "code",
   "execution_count": 2,
   "id": "74dcf486",
   "metadata": {},
   "outputs": [],
   "source": [
    "def findMin(nums):\n",
    "        l=0\n",
    "        r= len(nums)-1\n",
    "        while l<r:\n",
    "            mid = (l+r)//2\n",
    "            if nums[mid] > nums[r]:\n",
    "                l = mid+1\n",
    "            else:\n",
    "                r=mid\n",
    "        return nums[l]\n"
   ]
  },
  {
   "cell_type": "markdown",
   "id": "9a878c3d",
   "metadata": {},
   "source": [
    "# An integer array original is transformed into a **doubled** array changed by appending **twice the value** of every element in original, and then randomly **shuffling** the resulting array.\n",
    "\n",
    "Given an array changed, return original *if* changed *is a **doubled** array. If* changed *is not a **doubled** array, return an empty array. The elements in* original *may be returned in **any** order*.\n",
    "\n",
    "**Example 1:**\n",
    "\n",
    "**Input:** changed = [1,3,4,2,6,8]\n",
    "\n",
    "**Output:** [1,3,4]\n",
    "\n",
    "**Explanation:** One possible original array could be [1,3,4]:\n",
    "\n",
    "- Twice the value of 1 is 1 * 2 = 2.\n",
    "- Twice the value of 3 is 3 * 2 = 6.\n",
    "- Twice the value of 4 is 4 * 2 = 8.\n",
    "\n",
    "Other original arrays could be [4,3,1] or [3,1,4]."
   ]
  },
  {
   "cell_type": "code",
   "execution_count": 1,
   "id": "0ad4a43c",
   "metadata": {},
   "outputs": [],
   "source": [
    "from collections import Counter\n",
    "class Solution:\n",
    "    def findOriginalArray(changed):\n",
    "        changed.sort()\n",
    "        nz=changed.count(0)\n",
    "        if nz%2==1:\n",
    "            return []\n",
    "        changed=changed[nz:]\n",
    "        if len(changed)%2==1:\n",
    "            return []\n",
    "        cnt=Counter(changed)\n",
    "        flst=[]\n",
    "        for i in range(len(changed)):\n",
    "            if cnt[changed[i]]>0:\n",
    "                if 2*changed[i] in cnt and cnt[2*changed[i]]>0:\n",
    "                    cnt[2*changed[i]]-=1\n",
    "                    cnt[changed[i]]-=1\n",
    "                    flst.append(changed[i])\n",
    "                else:\n",
    "                    return []\n",
    "            \n",
    "        return flst+[0]*(nz//2)"
   ]
  },
  {
   "cell_type": "code",
   "execution_count": null,
   "id": "07ebde37",
   "metadata": {},
   "outputs": [],
   "source": []
  }
 ],
 "metadata": {
  "kernelspec": {
   "display_name": "Python 3 (ipykernel)",
   "language": "python",
   "name": "python3"
  },
  "language_info": {
   "codemirror_mode": {
    "name": "ipython",
    "version": 3
   },
   "file_extension": ".py",
   "mimetype": "text/x-python",
   "name": "python",
   "nbconvert_exporter": "python",
   "pygments_lexer": "ipython3",
   "version": "3.9.12"
  }
 },
 "nbformat": 4,
 "nbformat_minor": 5
}
