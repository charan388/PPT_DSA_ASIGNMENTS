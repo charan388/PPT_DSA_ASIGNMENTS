{
 "cells": [
  {
   "cell_type": "markdown",
   "id": "874c9a96",
   "metadata": {},
   "source": [
    "# Question 1\n",
    "Given an integer array nums of length n and an integer target, find three integers\n",
    "in nums such that the sum is closest to the target.\n",
    "Return the sum of the three integers.\n",
    "\n",
    "You may assume that each input would have exactly one solution.\n",
    "\n",
    "Example 1:\n",
    "Input: nums = [-1,2,1,-4], target = 1\n",
    "Output: 2\n",
    "\n",
    "Explanation: The sum that is closest to the target is 2. (-1 + 2 + 1 = 2)."
   ]
  },
  {
   "cell_type": "code",
   "execution_count": null,
   "id": "11c3dc38",
   "metadata": {},
   "outputs": [],
   "source": [
    "def threeSumClosest(nums, target):\n",
    "    nums.sort()\n",
    "    closest_sum = float('inf')\n",
    "    for i in range(len(nums)):\n",
    "        left = i + 1\n",
    "        right = len(nums) - 1\n",
    "        while left < right:\n",
    "            curr_sum = nums[i] + nums[left] + nums[right]\n",
    "            if abs(curr_sum - target) < abs(closest_sum - target):\n",
    "                closest_sum = curr_sum\n",
    "            if curr_sum > target:\n",
    "                right -= 1\n",
    "            else:\n",
    "                left += 1\n",
    "    return closest_sum\n"
   ]
  },
  {
   "cell_type": "markdown",
   "id": "5e77e062",
   "metadata": {},
   "source": [
    "# Question 2\n",
    "Given an array nums of n integers, return an array of all the unique quadruplets\n",
    "[nums[a], nums[b], nums[c], nums[d]] such that:\n",
    "           ● 0 <= a, b, c, d < n\n",
    "           ● a, b, c, and d are distinct.\n",
    "           ● nums[a] + nums[b] + nums[c] + nums[d] == target\n",
    "\n",
    "You may return the answer in any order.\n",
    "\n",
    "Example 1:\n",
    "Input: nums = [1,0,-1,0,-2,2], target = 0\n",
    "Output: [[-2,-1,1,2],[-2,0,0,2],[-1,0,0,1]]"
   ]
  },
  {
   "cell_type": "code",
   "execution_count": 2,
   "id": "dd4b5f90",
   "metadata": {},
   "outputs": [],
   "source": [
    "def productExceptSelf(nums):\n",
    "    zeroes = 0\n",
    "    full_product = 1\n",
    "    for idx, i in enumerate(nums):\n",
    "        if i == 0:\n",
    "            zeroes += 1\n",
    "            if zeroes > 1:\n",
    "                return [0] * len(nums)\n",
    "            position = idx\n",
    "        else:\n",
    "            full_product *= i\n",
    "    if zeroes:\n",
    "        result = [0] * len(nums)\n",
    "        result[position] = full_product\n",
    "    else:\n",
    "        result = [full_product//i for i in nums]\n",
    "\n",
    "    return result"
   ]
  },
  {
   "cell_type": "markdown",
   "id": "c1f47e1c",
   "metadata": {},
   "source": [
    "# Question 3\n",
    "A permutation of an array of integers is an arrangement of its members into a\n",
    "sequence or linear order.\n",
    "\n",
    "For example, for arr = [1,2,3], the following are all the permutations of arr:\n",
    "[1,2,3], [1,3,2], [2, 1, 3], [2, 3, 1], [3,1,2], [3,2,1].\n",
    "\n",
    "The next permutation of an array of integers is the next lexicographically greater\n",
    "permutation of its integer. More formally, if all the permutations of the array are\n",
    "sorted in one container according to their lexicographical order, then the next\n",
    "permutation of that array is the permutation that follows it in the sorted container.\n",
    "\n",
    "If such an arrangement is not possible, the array must be rearranged as the\n",
    "lowest possible order (i.e., sorted in ascending order).\n",
    "\n",
    "● For example, the next permutation of arr = [1,2,3] is [1,3,2].\n",
    "● Similarly, the next permutation of arr = [2,3,1] is [3,1,2].\n",
    "● While the next permutation of arr = [3,2,1] is [1,2,3] because [3,2,1] does not\n",
    "have a lexicographical larger rearrangement.\n",
    "\n",
    "Given an array of integers nums, find the next permutation of nums.\n",
    "The replacement must be in place and use only constant extra memory.\n",
    "\n",
    "**Example 1:**\n",
    "Input: nums = [1,2,3]\n",
    "Output: [1,3,2]\n"
   ]
  },
  {
   "cell_type": "code",
   "execution_count": 3,
   "id": "e4fa10b1",
   "metadata": {},
   "outputs": [],
   "source": [
    "def nextPermutation(nums):\n",
    "    def reverse(nums, start):\n",
    "        end = len(nums) - 1\n",
    "        while start < end:\n",
    "            nums[start], nums[end] = nums[end], nums[start]\n",
    "            start += 1\n",
    "            end -= 1\n",
    "    i = len(nums) - 2\n",
    "    while i >= 0 and nums[i + 1] <= nums[i]:\n",
    "        i -= 1\n",
    "    if i >= 0:\n",
    "        j = len(nums) - 1\n",
    "        while nums[j] <= nums[i]:\n",
    "            j -= 1\n",
    "        nums[i], nums[j] = nums[j], nums[i]\n",
    "    reverse(nums, i + 1)"
   ]
  },
  {
   "cell_type": "markdown",
   "id": "48edc358",
   "metadata": {},
   "source": [
    "# Question 4\n",
    "Given a sorted array of distinct integers and a target value, return the index if the\n",
    "target is found. If not, return the index where it would be if it were inserted in\n",
    "order.\n",
    "\n",
    "You must write an algorithm with O(log n) runtime complexity.\n",
    "\n",
    "Example 1:\n",
    "Input: nums = [1,3,5,6], target = 5\n",
    "Output: 2"
   ]
  },
  {
   "cell_type": "code",
   "execution_count": 4,
   "id": "8951e5ad",
   "metadata": {},
   "outputs": [],
   "source": [
    "def searchInsert(nums, target):\n",
    "        l,r = 0,len(nums)-1\n",
    "        while l<=r:\n",
    "            mid = (l+r)//2\n",
    "            if nums[mid] == target:\n",
    "                return mid\n",
    "            if nums[mid] < target:\n",
    "                l = mid+1\n",
    "            else:\n",
    "                r= mid-1\n",
    "        return l\n",
    "        \n",
    "            \n"
   ]
  },
  {
   "cell_type": "markdown",
   "id": "e285a0c6",
   "metadata": {},
   "source": [
    "# Question 5\n",
    "You are given a large integer represented as an integer array digits, where each\n",
    "digits[i] is the ith digit of the integer. The digits are ordered from most significant\n",
    "to least significant in left-to-right order. The large integer does not contain any\n",
    "leading 0's.\n",
    "\n",
    "Increment the large integer by one and return the resulting array of digits.\n",
    "\n",
    "**Example 1:**\n",
    "Input: digits = [1,2,3]\n",
    "Output: [1,2,4]\n",
    "\n",
    "**Explanation:** The array represents the integer 123.\n",
    "Incrementing by one gives 123 + 1 = 124.\n",
    "Thus, the result should be [1,2,4].\n"
   ]
  },
  {
   "cell_type": "code",
   "execution_count": null,
   "id": "95d20fbb",
   "metadata": {},
   "outputs": [],
   "source": [
    "def plusOne(self, digits: List[int]) -> List[int]:\n",
    "        s = ''.join([str(d) for d in digits])\n",
    "        total = int(s) + 1\n",
    "        return [int(i) for i in str(total)]"
   ]
  },
  {
   "cell_type": "markdown",
   "id": "46c71f7f",
   "metadata": {},
   "source": [
    "# Question 6\n",
    "Given a non-empty array of integers nums, every element appears twice except\n",
    "for one. Find that single one.\n",
    "\n",
    "You must implement a solution with a linear runtime complexity and use only\n",
    "constant extra space.\n",
    "\n",
    "Example 1:\n",
    "Input: nums = [2,2,1]\n",
    "Output: 1"
   ]
  },
  {
   "cell_type": "code",
   "execution_count": 5,
   "id": "1ef62413",
   "metadata": {},
   "outputs": [],
   "source": [
    " def singleNumber(nums):\n",
    "        dic = {}\n",
    "        for num in nums:\n",
    "            dic[num] = dic.get(num, 0)+1\n",
    "        for key, val in dic.items():\n",
    "            if val == 1:\n",
    "                return key"
   ]
  },
  {
   "cell_type": "markdown",
   "id": "f8554763",
   "metadata": {},
   "source": [
    "# Question 7\n",
    "You are given an inclusive range [lower, upper] and a sorted unique integer array\n",
    "nums, where all elements are within the inclusive range.\n",
    "\n",
    "A number x is considered missing if x is in the range [lower, upper] and x is not in\n",
    "nums.\n",
    "\n",
    "Return the shortest sorted list of ranges that exactly covers all the missing\n",
    "numbers. That is, no element of nums is included in any of the ranges, and each\n",
    "missing number is covered by one of the ranges.\n",
    "\n",
    "Example 1:\n",
    "Input: nums = [0,1,3,50,75], lower = 0, upper = 99\n",
    "Output: [[2,2],[4,49],[51,74],[76,99]]\n",
    "\n",
    "Explanation: The ranges are:\n",
    "[2,2]\n",
    "[4,49]\n",
    "[51,74]\n",
    "[76,99]"
   ]
  },
  {
   "cell_type": "code",
   "execution_count": 8,
   "id": "efd00e1d",
   "metadata": {},
   "outputs": [],
   "source": [
    "def findMissingRanges(nums, lower, upper):\n",
    "        results = []\n",
    "        \n",
    "        if not nums:\n",
    "            gap = self.helper(lower, upper)\n",
    "            results.append(gap)\n",
    "            \n",
    "            return results\n",
    "        \n",
    "        prev = lower - 1\n",
    "        \n",
    "        for num in nums:\n",
    "            if prev + 1 != num:                \n",
    "                gap = self.helper(prev + 1, num - 1)\n",
    "                results.append(gap)\n",
    "            prev = num    \n",
    "        \n",
    "        if nums[-1] < upper:\n",
    "            gap = self.helper(nums[-1] + 1, upper)\n",
    "            results.append(gap)\n",
    "                    \n",
    "        return results\n",
    "    \n",
    "def helper(left, right):\n",
    "    if left == right:\n",
    "        return str(left)\n",
    "\n",
    "    return str(left) + \"->\" + str(right)\n"
   ]
  },
  {
   "cell_type": "markdown",
   "id": "73b06f5b",
   "metadata": {},
   "source": [
    "# Question 8\n",
    "Given an array of meeting time intervals where intervals[i] = [starti, endi],\n",
    "determine if a person could attend all meetings.\n",
    "\n",
    "Example 1:\n",
    "Input: intervals = [[0,30],[5,10],[15,20]]\n",
    "Output: false"
   ]
  },
  {
   "cell_type": "code",
   "execution_count": 9,
   "id": "23d36a2a",
   "metadata": {},
   "outputs": [],
   "source": [
    "\n",
    "def merge(intervals):\n",
    "    intervals = sorted(intervals, key=lambda x: x [0])\n",
    "\n",
    "    ans = []\n",
    "\n",
    "    for interval in intervals:\n",
    "        if not ans or ans[-1][1] < interval[0]:\n",
    "            ans.append(interval)\n",
    "        else:\n",
    "            ans[-1][1] = max(ans[-1][1], interval[1])\n",
    "\n",
    "    return ans"
   ]
  },
  {
   "cell_type": "code",
   "execution_count": null,
   "id": "59b43982",
   "metadata": {},
   "outputs": [],
   "source": []
  }
 ],
 "metadata": {
  "kernelspec": {
   "display_name": "Python 3 (ipykernel)",
   "language": "python",
   "name": "python3"
  },
  "language_info": {
   "codemirror_mode": {
    "name": "ipython",
    "version": 3
   },
   "file_extension": ".py",
   "mimetype": "text/x-python",
   "name": "python",
   "nbconvert_exporter": "python",
   "pygments_lexer": "ipython3",
   "version": "3.9.12"
  }
 },
 "nbformat": 4,
 "nbformat_minor": 5
}
