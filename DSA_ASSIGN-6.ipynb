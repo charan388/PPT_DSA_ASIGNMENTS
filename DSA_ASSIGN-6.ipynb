{
 "cells": [
  {
   "cell_type": "markdown",
   "id": "8e6811c2",
   "metadata": {},
   "source": [
    "# Question 1**\n",
    "\n",
    "A permutation perm of n + 1 integers of all the integers in the range [0, n] can be represented as a string s of length n where:\n",
    "\n",
    "- s[i] == 'I' if perm[i] < perm[i + 1], and\n",
    "- s[i] == 'D' if perm[i] > perm[i + 1].\n",
    "\n",
    "Given a string s, reconstruct the permutation perm and return it. If there are multiple valid permutations perm, return **any of them**.\n",
    "\n",
    "**Example 1:**\n",
    "\n",
    "**Input:** s = \"IDID\"\n",
    "\n",
    "**Output:**\n",
    "\n",
    "[0,4,1,3,2]\n",
    "\n",
    "</aside>"
   ]
  },
  {
   "cell_type": "code",
   "execution_count": 11,
   "id": "d7a0df88",
   "metadata": {},
   "outputs": [],
   "source": [
    "def diStringMatch(s):\n",
    "        l=0\n",
    "        r = len(s)\n",
    "        res =[]\n",
    "        for x in s:\n",
    "            if x == \"I\":\n",
    "                res.append(l)\n",
    "                l+=1\n",
    "            if x == \"D\":\n",
    "                res.append(r)\n",
    "                r-=1\n",
    "        return res+[l]"
   ]
  },
  {
   "cell_type": "code",
   "execution_count": 4,
   "id": "709480dc",
   "metadata": {},
   "outputs": [
    {
     "data": {
      "text/plain": [
       "[0, 4, 1, 3, 2]"
      ]
     },
     "execution_count": 4,
     "metadata": {},
     "output_type": "execute_result"
    }
   ],
   "source": [
    "diStringMatch(\"IDID\")"
   ]
  },
  {
   "cell_type": "markdown",
   "id": "91cf3b43",
   "metadata": {},
   "source": [
    "# You are given an m x n integer matrix matrix with the following two properties:\n",
    "\n",
    "- Each row is sorted in non-decreasing order.\n",
    "- The first integer of each row is greater than the last integer of the previous row.\n",
    "\n",
    "Given an integer target, return true *if* target *is in* matrix *or* false *otherwise*.\n",
    "\n",
    "You must write a solution in O(log(m * n)) time complexity."
   ]
  },
  {
   "cell_type": "code",
   "execution_count": 5,
   "id": "72e9fe63",
   "metadata": {},
   "outputs": [],
   "source": [
    "\n",
    "def searchMatrix(matrix, target):\n",
    "    R, C = len(matrix), len(matrix[0])\n",
    "    l, r = 0, R*C-1\n",
    "\n",
    "    while l <= r:\n",
    "        mid = l + (r-l)//2\n",
    "        row, col = mid // C, mid % C\n",
    "        if matrix[row][col] < target:\n",
    "            l = mid + 1\n",
    "        elif matrix[row][col] > target:\n",
    "            r = mid - 1\n",
    "        else:\n",
    "            return True\n",
    "\n",
    "    return False"
   ]
  },
  {
   "cell_type": "markdown",
   "id": "ebe27f60",
   "metadata": {},
   "source": [
    "# Given an array of integers arr, return *true if and only if it is a valid mountain array*.\n",
    "\n",
    "Recall that arr is a mountain array if and only if:\n",
    "\n",
    "- arr.length >= 3\n",
    "- There exists some i with 0 < i < arr.length - 1 such that:\n",
    "    - arr[0] < arr[1] < ... < arr[i - 1] < arr[i]\n",
    "    - arr[i] > arr[i + 1] > ... > arr[arr.length - 1]"
   ]
  },
  {
   "cell_type": "code",
   "execution_count": 6,
   "id": "c1ae003e",
   "metadata": {},
   "outputs": [],
   "source": [
    "def validMountainArray(self, A):\n",
    "    N = len(A)\n",
    "    i = 0\n",
    "    while i+1 < N and A[i] < A[i+1]:\n",
    "        i += 1\n",
    "\n",
    "    if i == 0 or i == N-1:\n",
    "        return False\n",
    "    while i+1 < N and A[i] > A[i+1]:\n",
    "        i += 1\n",
    "\n",
    "    return i == N-1"
   ]
  },
  {
   "cell_type": "markdown",
   "id": "73312acb",
   "metadata": {},
   "source": [
    "# Given a binary array nums, return *the maximum length of a contiguous subarray with an equal number of* 0 *and* 1.\n",
    "\n",
    "**Example 1:**\n",
    "\n",
    "**Input:** nums = [0,1]\n",
    "\n",
    "**Output:** 2\n",
    "\n",
    "**Explanation:**\n",
    "\n",
    "[0, 1] is the longest contiguous subarray with an equal number of 0 and 1."
   ]
  },
  {
   "cell_type": "code",
   "execution_count": 10,
   "id": "7e5c7426",
   "metadata": {},
   "outputs": [],
   "source": [
    "\n",
    "def findMaxLength(nums):\n",
    "    totalsum,hashmap=0,{0:-1}\n",
    "    res,diff=0,0\n",
    "    for i in range(len(nums)):\n",
    "        if(nums[i]==0):\n",
    "            totalsum-=1\n",
    "        else:\n",
    "            totalsum+=1\n",
    "        try:\n",
    "            diff=i-hashmap[totalsum]\n",
    "            if(diff>res):\n",
    "                res=diff\n",
    "        except:\n",
    "            hashmap[totalsum]=i\n",
    "    return res"
   ]
  },
  {
   "cell_type": "markdown",
   "id": "be4efef9",
   "metadata": {},
   "source": [
    "# The **product sum** of two equal-length arrays a and b is equal to the sum of a[i] * b[i] for all 0 <= i < a.length (**0-indexed**).\n",
    "\n",
    "- For example, if a = [1,2,3,4] and b = [5,2,3,1], the **product sum** would be 1*5 + 2*2 + 3*3 + 4*1 = 22.\n",
    "\n",
    "Given two arrays nums1 and nums2 of length n, return *the **minimum product sum** if you are allowed to **rearrange** the **order** of the elements in* nums1.\n",
    "\n",
    "**Example 1:**\n",
    "\n",
    "**Input:** nums1 = [5,3,4,2], nums2 = [4,2,2,5]\n",
    "\n",
    "**Output:** 40"
   ]
  },
  {
   "cell_type": "code",
   "execution_count": 7,
   "id": "d4ad0663",
   "metadata": {},
   "outputs": [],
   "source": [
    "def minProductSum(nums1,nums2):\n",
    "        nums1.sort()\n",
    "        nums2.sort()\n",
    "        n, res = len(nums1), 0\n",
    "        for i in range(n):\n",
    "            res += nums1[i] * nums2[n - i - 1]\n",
    "        return res\n"
   ]
  },
  {
   "cell_type": "markdown",
   "id": "1d26ca30",
   "metadata": {},
   "source": [
    "# *Question 7**\n",
    "\n",
    "Given a positive integer n, generate an n x n matrix filled with elements from 1 to n2 in spiral order.\n"
   ]
  },
  {
   "cell_type": "code",
   "execution_count": 8,
   "id": "602de4d1",
   "metadata": {},
   "outputs": [],
   "source": [
    "def generateMatrix(n):\n",
    "        matrix = [[0] * n for _ in range(n)]\n",
    "        \n",
    "        count = 1\n",
    "        rowStart = 0\n",
    "        rowEnd = n-1\n",
    "        colStart = 0\n",
    "        colEnd = n-1\n",
    "    \n",
    "        while(rowStart <= rowEnd and colStart <= colEnd):\n",
    "            for i in range(colStart, colEnd+1):\n",
    "                matrix[rowStart][i] = count\n",
    "                count += 1\n",
    "            rowStart += 1\n",
    "        \n",
    "            if rowStart > rowEnd:\n",
    "                break\n",
    "        \n",
    "            for i in range(rowStart, rowEnd+1):\n",
    "                matrix[i][colEnd] = count\n",
    "                count += 1\n",
    "            colEnd -= 1\n",
    "        \n",
    "            if colStart > colEnd:\n",
    "                break\n",
    "        \n",
    "            for i in range(colEnd, colStart-1, -1):\n",
    "                matrix[rowEnd][i] = count\n",
    "                count += 1\n",
    "            rowEnd -= 1\n",
    "        \n",
    "            if rowStart > rowEnd:\n",
    "                break\n",
    "        \n",
    "            for i in range(rowEnd, rowStart-1, -1):\n",
    "                matrix[i][colStart] = count\n",
    "                count += 1\n",
    "            colStart += 1\n",
    "        return matrix"
   ]
  },
  {
   "cell_type": "markdown",
   "id": "7a20f1c6",
   "metadata": {},
   "source": [
    "# Question 8**\n",
    "\n",
    "Given two [sparse matrices](https://en.wikipedia.org/wiki/Sparse_matrix) mat1 of size m x k and mat2 of size k x n, return the result of mat1 x mat2. You may assume that multiplication is always possible.\n",
    "\n",
    "**Example 1:**\n"
   ]
  },
  {
   "cell_type": "code",
   "execution_count": 9,
   "id": "9cab5aea",
   "metadata": {},
   "outputs": [],
   "source": [
    "def multiply(mat1, mat2):\n",
    "        r1, c1, c2 = len(mat1), len(mat1[0]), len(mat2[0])\n",
    "        res = [[0] * c2 for _ in range(r1)]\n",
    "        mp = defaultdict(list)\n",
    "        for i in range(r1):\n",
    "            for j in range(c1):\n",
    "                if mat1[i][j] != 0:\n",
    "                    mp[i].append(j)\n",
    "        for i in range(r1):\n",
    "            for j in range(c2):\n",
    "                for k in mp[i]:\n",
    "                    res[i][j] += mat1[i][k] * mat2[k][j]\n",
    "        return res"
   ]
  },
  {
   "cell_type": "code",
   "execution_count": null,
   "id": "f61459f9",
   "metadata": {},
   "outputs": [],
   "source": []
  }
 ],
 "metadata": {
  "kernelspec": {
   "display_name": "Python 3 (ipykernel)",
   "language": "python",
   "name": "python3"
  },
  "language_info": {
   "codemirror_mode": {
    "name": "ipython",
    "version": 3
   },
   "file_extension": ".py",
   "mimetype": "text/x-python",
   "name": "python",
   "nbconvert_exporter": "python",
   "pygments_lexer": "ipython3",
   "version": "3.9.12"
  }
 },
 "nbformat": 4,
 "nbformat_minor": 5
}
