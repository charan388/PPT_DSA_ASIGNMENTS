{
 "cells": [
  {
   "cell_type": "markdown",
   "id": "6638264c",
   "metadata": {},
   "source": [
    "# Given two strings s1 and s2, return *the lowest **ASCII** sum of deleted characters to make two strings equal*.\n",
    "\n",
    "**Example 1:**\n",
    "\n",
    "**Input:** s1 = \"sea\", s2 = \"eat\"\n",
    "\n",
    "**Output:** 231\n",
    "\n",
    "**Explanation:** Deleting \"s\" from \"sea\" adds the ASCII value of \"s\" (115) to the sum.\n",
    "\n",
    "Deleting \"t\" from \"eat\" adds 116 to the sum.\n",
    "\n",
    "At the end, both strings are equal, and 115 + 116 = 231 is the minimum sum possible to achieve this."
   ]
  },
  {
   "cell_type": "code",
   "execution_count": 1,
   "id": "ac7f8393",
   "metadata": {},
   "outputs": [],
   "source": [
    "\n",
    "def minimumDeleteSum(s1, s2):\n",
    "    m, n = len(s1), len(s2)\n",
    "    dp = [[0] * (m + 1) for _ in range(n + 1)]\n",
    "\n",
    "    for i in range(1, m + 1):\n",
    "        dp[0][i] = dp[0][i - 1] + ord(s1[i - 1])\n",
    "    for i in range(1, n + 1):\n",
    "        dp[i][0] = dp[i - 1][0] + ord(s2[i - 1])\n",
    "\n",
    "    for i in range(1, n + 1):\n",
    "        for j in range(1, m + 1):\n",
    "            if s1[j - 1] == s2[i - 1]:\n",
    "                dp[i][j] = dp[i - 1][j - 1]\n",
    "            else:\n",
    "                dp[i][j] = min(ord(s1[j - 1]) + dp[i][j - 1], ord(s2[i - 1]) + dp[i - 1][j])\n",
    "\n",
    "    return dp[-1][-1]"
   ]
  },
  {
   "cell_type": "markdown",
   "id": "a8c7d22e",
   "metadata": {},
   "source": [
    "# Given a string s containing only three types of characters: '(', ')' and '*', return true *if* s *is **valid***.\n",
    "\n",
    "The following rules define a **valid** string:\n",
    "\n",
    "- Any left parenthesis '(' must have a corresponding right parenthesis ')'.\n",
    "- Any right parenthesis ')' must have a corresponding left parenthesis '('.\n",
    "- Left parenthesis '(' must go before the corresponding right parenthesis ')'.\n",
    "- '*' could be treated as a single right parenthesis ')' or a single left parenthesis '(' or an empty string \"\".\n",
    "\n",
    "**Example 1:**\n",
    "\n",
    "**Input:** s = \"()\"\n",
    "\n",
    "**Output:**\n",
    "\n",
    "true"
   ]
  },
  {
   "cell_type": "code",
   "execution_count": 1,
   "id": "0338fdb0",
   "metadata": {},
   "outputs": [],
   "source": [
    "def checkValidString(s):\n",
    "    leftmin = leftmax = 0\n",
    "    for c in s:\n",
    "        if c == \"(\":\n",
    "            leftmax += 1\n",
    "            leftmin += 1\n",
    "        if c == \")\":\n",
    "            leftmax -= 1\n",
    "            leftmin = max(0, leftmin-1)\n",
    "        if c == \"*\":\n",
    "            leftmax +=1\n",
    "            leftmin = max(0, leftmin-1)\n",
    "        if leftmax < 0:\n",
    "            return False\n",
    "    if leftmin == 0:\n",
    "        return True"
   ]
  },
  {
   "cell_type": "markdown",
   "id": "283124fe",
   "metadata": {},
   "source": [
    "# Given two strings word1 and word2, return *the minimum number of **steps** required to make* word1 *and* word2 *the same*.\n",
    "\n",
    "In one **step**, you can delete exactly one character in either string.\n",
    "\n",
    "**Example 1:**\n",
    "\n",
    "**Input:** word1 = \"sea\", word2 = \"eat\"\n",
    "\n",
    "**Output:** 2\n",
    "\n",
    "**Explanation:** You need one step to make \"sea\" to \"ea\" and another step to make \"eat\" to \"ea\"."
   ]
  },
  {
   "cell_type": "code",
   "execution_count": 7,
   "id": "e2c7a6db",
   "metadata": {},
   "outputs": [],
   "source": [
    "\n",
    "def minDistance(word1, word2):\n",
    "    m, n = len(word1), len(word2)\n",
    "    dp = [[0] * (n + 1) for _ in range(m + 1)]\n",
    "\n",
    "    # fill in the dynamic programming table\n",
    "    for i in range(1, m + 1):\n",
    "        for j in range(1, n + 1):\n",
    "            if word1[i - 1] == word2[j - 1]:\n",
    "                dp[i][j] = dp[i - 1][j - 1] + 1\n",
    "            else:\n",
    "                dp[i][j] = max(dp[i - 1][j], dp[i][j - 1])\n",
    "\n",
    "    # return the minimum number of deletions required\n",
    "    return m + n - 2 * dp[m][n]"
   ]
  },
  {
   "cell_type": "markdown",
   "id": "a020244e",
   "metadata": {},
   "source": [
    "# Given an array of characters chars, compress it using the following algorithm:\n",
    "\n",
    "Begin with an empty string s. For each group of **consecutive repeating characters** in chars:\n",
    "\n",
    "- If the group's length is 1, append the character to s.\n",
    "- Otherwise, append the character followed by the group's length.\n",
    "\n",
    "The compressed string s **should not be returned separately**, but instead, be stored **in the input character array chars**. Note that group lengths that are 10 or longer will be split into multiple characters in chars.\n",
    "\n",
    "After you are done **modifying the input array,** return *the new length of the array*.\n",
    "\n",
    "You must write an algorithm that uses only constant extra space.\n",
    "\n",
    "**Example 1:**\n",
    "\n",
    "**Input:** chars = [\"a\",\"a\",\"b\",\"b\",\"c\",\"c\",\"c\"]\n",
    "\n",
    "**Output:** Return 6, and the first 6 characters of the input array should be: [\"a\",\"2\",\"b\",\"2\",\"c\",\"3\"]\n",
    "\n",
    "**Explanation:**\n",
    "\n",
    "The groups are \"aa\", \"bb\", and \"ccc\". This compresses to \"a2b2c3\"."
   ]
  },
  {
   "cell_type": "code",
   "execution_count": 14,
   "id": "3accdfdf",
   "metadata": {},
   "outputs": [
    {
     "data": {
      "text/plain": [
       "['a', 'c', '2']"
      ]
     },
     "execution_count": 14,
     "metadata": {},
     "output_type": "execute_result"
    }
   ],
   "source": [
    "chars = [\"a\",\"c\",\"c\",\"b\",\"b\",\"b\",\"b\",\"b\",\"b\",\"b\",\"b\",\"b\",\"b\",\"b\",\"b\"]\n",
    "c =1\n",
    "newchr =chars.pop(0)\n",
    "i=0\n",
    "n = len(chars)\n",
    "while i<n:\n",
    "    cur = chars.pop(0)\n",
    "    if cur == newchr:\n",
    "        c+=1\n",
    "    else:\n",
    "        chars.append(newchr)\n",
    "        if c>1:\n",
    "            chars.extend(k for k in str(c))\n",
    "        newchr = cur\n",
    "        c=1\n",
    "    i+=1\n",
    "chars.append(newchr)\n",
    "if c>1:\n",
    "    chars.extend(k for k in str(c))\n",
    "chars\n",
    "        "
   ]
  },
  {
   "cell_type": "markdown",
   "id": "f9d0790a",
   "metadata": {},
   "source": [
    "# Given an encoded string, return its decoded string.\n",
    "\n",
    "The encoding rule is: k[encoded_string], where the encoded_string inside the square brackets is being repeated exactly k times. Note that k is guaranteed to be a positive integer.\n",
    "\n",
    "You may assume that the input string is always valid; there are no extra white spaces, square brackets are well-formed, etc. Furthermore, you may assume that the original data does not contain any digits and that digits are only for those repeat numbers, k. For example, there will not be input like 3a or 2[4].\n",
    "\n",
    "The test cases are generated so that the length of the output will never exceed 105.\n",
    "\n",
    "**Example 1:**\n",
    "\n",
    "**Input:** s = \"3[a]2[bc]\"\n",
    "\n",
    "**Output:** \"aaabcbc\""
   ]
  },
  {
   "cell_type": "code",
   "execution_count": 5,
   "id": "dc07014c",
   "metadata": {},
   "outputs": [
    {
     "name": "stdout",
     "output_type": "stream",
     "text": [
      "[3, '']\n",
      "[2, 'aaa']\n"
     ]
    },
    {
     "data": {
      "text/plain": [
       "'aaabcbc'"
      ]
     },
     "execution_count": 5,
     "metadata": {},
     "output_type": "execute_result"
    }
   ],
   "source": [
    "s = \"3[a]2[bc]\"\n",
    "stk =[]\n",
    "curr_str = \"\"\n",
    "curr_num=0\n",
    "for c in s:\n",
    "    if c.isdigit():\n",
    "        curr_num = curr_num*10+int(c)\n",
    "    elif c == '[':\n",
    "        \n",
    "        stk.append(curr_num)\n",
    "        \n",
    "        stk.append(curr_str)\n",
    "        print(stk)\n",
    "        curr_num =0\n",
    "        curr_str = ''\n",
    "        \n",
    "    elif c==']':\n",
    "        pr_str =stk.pop()\n",
    "        prv_num = stk.pop()\n",
    "        curr_str = pr_str+curr_str*prv_num\n",
    "    else:\n",
    "        curr_str +=c\n",
    "while stk:\n",
    "    curr_str = stk.pop()+curr_str\n",
    "curr_str"
   ]
  },
  {
   "cell_type": "markdown",
   "id": "21f513a3",
   "metadata": {},
   "source": [
    "# Given two strings s and p, return *an array of all the start indices of* p*'s anagrams in* s. You may return the answer in **any order**.\n",
    "\n",
    "An **Anagram** is a word or phrase formed by rearranging the letters of a different word or phrase, typically using all the original letters exactly once.\n",
    "\n",
    "**Example 1:**\n",
    "\n",
    "**Input:** s = \"cbaebabacd\", p = \"abc\"\n",
    "\n",
    "**Output:** [0,6]\n",
    "\n",
    "**Explanation:**\n",
    "\n",
    "The substring with start index = 0 is \"cba\", which is an anagram of \"abc\".\n",
    "\n",
    "The substring with start index = 6 is \"bac\", which is an anagram of \"abc\"."
   ]
  },
  {
   "cell_type": "code",
   "execution_count": null,
   "id": "7d37430b",
   "metadata": {},
   "outputs": [],
   "source": [
    "    def findAnagrams(self, s: str, p: str) -> List[int]:\n",
    "        res = []\n",
    "        p = sorted(p)\n",
    "        n = len(p)\n",
    "        l = len(s)\n",
    "        for i in range(l-n+1):\n",
    "            t = sorted(s[i:i+n])\n",
    "            if t == p:\n",
    "                res.append(i)\n",
    "        return res"
   ]
  },
  {
   "cell_type": "markdown",
   "id": "0f0c0e64",
   "metadata": {},
   "source": [
    "# Given two strings s and goal, return true *if you can swap two letters in* s *so the result is equal to* goal*, otherwise, return* false*.*\n",
    "\n",
    "Swapping letters is defined as taking two indices i and j (0-indexed) such that i != j and swapping the characters at s[i] and s[j].\n",
    "\n",
    "- For example, swapping at indices 0 and 2 in \"abcd\" results in \"cbad\"."
   ]
  },
  {
   "cell_type": "code",
   "execution_count": 6,
   "id": "8fddf9fc",
   "metadata": {},
   "outputs": [],
   "source": [
    "\n",
    "def buddyStrings(A, B):\n",
    "    # check same length\n",
    "    if len(A) != len(B): return False\n",
    "\n",
    "    # if strings are equal - check if there is a double to swap\n",
    "    if A == B:\n",
    "        return True if len(A) - len(set(A)) >= 1 else False\n",
    "\n",
    "    # count differences between strings\n",
    "    diff = []\n",
    "    for i in range(len(A)):\n",
    "        if A[i] != B[i]:\n",
    "            diff.append(i)\n",
    "            if len(diff) > 2: return False\n",
    "\n",
    "    # not exactly two differences\n",
    "    if len(diff) != 2: return False\n",
    "\n",
    "    # check if can be swapped\n",
    "    if A[diff[0]] == B[diff[1]] and A[diff[1]] == B[diff[0]]:\n",
    "        return True\n",
    "\n",
    "    return False"
   ]
  },
  {
   "cell_type": "markdown",
   "id": "8382a1ad",
   "metadata": {},
   "source": [
    "# You need to construct a binary tree from a string consisting of parenthesis and integers.\n",
    "\n",
    "The whole input represents a binary tree. It contains an integer followed by zero, one or two pairs of parenthesis. The integer represents the root's value and a pair of parenthesis contains a child binary tree with the same structure.\n",
    "You always start to construct the **left** child node of the parent first if it exists."
   ]
  },
  {
   "cell_type": "code",
   "execution_count": 15,
   "id": "66844fb5",
   "metadata": {},
   "outputs": [
    {
     "name": "stdout",
     "output_type": "stream",
     "text": [
      "4 2 3 1 6 5 "
     ]
    }
   ],
   "source": [
    "\n",
    "class newNode:\n",
    "\tdef __init__(self, data):\n",
    "\t\tself.data = data\n",
    "\t\tself.left = self.right = None\n",
    "\n",
    "# This function is here just to test\n",
    "\n",
    "\n",
    "def preOrder(node):\n",
    "\tif (node == None):\n",
    "\t\treturn\n",
    "\tprint(node.data, end=' ')\n",
    "\tpreOrder(node.left)\n",
    "\tpreOrder(node.right)\n",
    "\n",
    "# function to return the index of\n",
    "# close parenthesis\n",
    "\n",
    "\n",
    "def findIndex(Str, si, ei):\n",
    "\tif (si > ei):\n",
    "\t\treturn -1\n",
    "\n",
    "\t# Inbuilt stack\n",
    "\ts = []\n",
    "\tfor i in range(si, ei + 1):\n",
    "\n",
    "\t\t# if open parenthesis, push it\n",
    "\t\tif (Str[i] == '('):\n",
    "\t\t\ts.append(Str[i])\n",
    "\n",
    "\t\t# if close parenthesis\n",
    "\t\telif (Str[i] == ')'):\n",
    "\t\t\tif (s[-1] == '('):\n",
    "\t\t\t\ts.pop(-1)\n",
    "\n",
    "\t\t\t\t# if stack is empty, this is\n",
    "\t\t\t\t# the required index\n",
    "\t\t\t\tif len(s) == 0:\n",
    "\t\t\t\t\treturn i\n",
    "\t# if not found return -1\n",
    "\treturn -1\n",
    "\n",
    "# function to conStruct tree from String\n",
    "\n",
    "\n",
    "def treeFromString(Str, si, ei):\n",
    "\n",
    "\t# Base case\n",
    "\tif (si > ei):\n",
    "\t\treturn None\n",
    "\n",
    "\t# new root\n",
    "\troot = newNode(ord(Str[si]) - ord('0'))\n",
    "\tindex = -1\n",
    "\n",
    "\t# if next char is '(' find the\n",
    "\t# index of its complement ')'\n",
    "\tif (si + 1 <= ei and Str[si + 1] == '('):\n",
    "\t\tindex = findIndex(Str, si + 1, ei)\n",
    "\n",
    "\t# if index found\n",
    "\tif (index != -1):\n",
    "\n",
    "\t\t# call for left subtree\n",
    "\t\troot.left = treeFromString(Str, si + 2,\n",
    "\t\t\t\t\t\t\t\tindex - 1)\n",
    "\n",
    "\t\t# call for right subtree\n",
    "\t\troot.right = treeFromString(Str, index + 2,\n",
    "\t\t\t\t\t\t\t\t\tei - 1)\n",
    "\treturn root\n",
    "\n",
    "\n",
    "# Driver Code\n",
    "if __name__ == '__main__':\n",
    "\tStr = \"4(2(3)(1))(6(5))\"\n",
    "\troot = treeFromString(Str, 0, len(Str) - 1)\n",
    "\tpreOrder(root)"
   ]
  },
  {
   "cell_type": "code",
   "execution_count": null,
   "id": "bccfc8a5",
   "metadata": {},
   "outputs": [],
   "source": []
  }
 ],
 "metadata": {
  "kernelspec": {
   "display_name": "Python 3 (ipykernel)",
   "language": "python",
   "name": "python3"
  },
  "language_info": {
   "codemirror_mode": {
    "name": "ipython",
    "version": 3
   },
   "file_extension": ".py",
   "mimetype": "text/x-python",
   "name": "python",
   "nbconvert_exporter": "python",
   "pygments_lexer": "ipython3",
   "version": "3.9.12"
  }
 },
 "nbformat": 4,
 "nbformat_minor": 5
}
